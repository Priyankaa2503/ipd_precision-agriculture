{
 "cells": [
  {
   "cell_type": "code",
   "execution_count": 7,
   "metadata": {},
   "outputs": [
    {
     "name": "stdout",
     "output_type": "stream",
     "text": [
      "Transferred 319/355 items from pretrained weights\n",
      "\n",
      "image 1/1 /Users/priyankaramachandran/Desktop/precision agriculture/ipd_precision-agriculture/grape_counting/datasets/test/images/angle-15_IMG_20220721_101402_1.jpg: 640x480 1 person, 93.3ms\n",
      "Speed: 2.3ms preprocess, 93.3ms inference, 1.1ms postprocess per image at shape (1, 3, 640, 480)\n"
     ]
    },
    {
     "ename": "AttributeError",
     "evalue": "'list' object has no attribute 'xyxy'",
     "output_type": "error",
     "traceback": [
      "\u001b[0;31m---------------------------------------------------------------------------\u001b[0m",
      "\u001b[0;31mAttributeError\u001b[0m                            Traceback (most recent call last)",
      "\u001b[1;32m/Users/priyankaramachandran/Desktop/precision agriculture/ipd_precision-agriculture/grape_counting/datasets/counting.ipynb Cell 1\u001b[0m line \u001b[0;36m3\n\u001b[1;32m     <a href='vscode-notebook-cell:/Users/priyankaramachandran/Desktop/precision%20agriculture/ipd_precision-agriculture/grape_counting/datasets/counting.ipynb#W0sZmlsZQ%3D%3D?line=34'>35</a>\u001b[0m     \u001b[39mprint\u001b[39m(\u001b[39mf\u001b[39m\u001b[39m\"\u001b[39m\u001b[39mImage: \u001b[39m\u001b[39m{\u001b[39;00mos\u001b[39m.\u001b[39mpath\u001b[39m.\u001b[39mbasename(image_path)\u001b[39m}\u001b[39;00m\u001b[39m, Grape Count: \u001b[39m\u001b[39m{\u001b[39;00m\u001b[39mlen\u001b[39m(grapes_boxes)\u001b[39m}\u001b[39;00m\u001b[39m\"\u001b[39m)\n\u001b[1;32m     <a href='vscode-notebook-cell:/Users/priyankaramachandran/Desktop/precision%20agriculture/ipd_precision-agriculture/grape_counting/datasets/counting.ipynb#W0sZmlsZQ%3D%3D?line=37'>38</a>\u001b[0m \u001b[39m# Call the function to count grapes in the single test image\u001b[39;00m\n\u001b[0;32m---> <a href='vscode-notebook-cell:/Users/priyankaramachandran/Desktop/precision%20agriculture/ipd_precision-agriculture/grape_counting/datasets/counting.ipynb#W0sZmlsZQ%3D%3D?line=38'>39</a>\u001b[0m count_grapes(test_image_path)\n",
      "\u001b[1;32m/Users/priyankaramachandran/Desktop/precision agriculture/ipd_precision-agriculture/grape_counting/datasets/counting.ipynb Cell 1\u001b[0m line \u001b[0;36m2\n\u001b[1;32m     <a href='vscode-notebook-cell:/Users/priyankaramachandran/Desktop/precision%20agriculture/ipd_precision-agriculture/grape_counting/datasets/counting.ipynb#W0sZmlsZQ%3D%3D?line=21'>22</a>\u001b[0m results \u001b[39m=\u001b[39m model(image_path, conf\u001b[39m=\u001b[39mconfidence_threshold)\n\u001b[1;32m     <a href='vscode-notebook-cell:/Users/priyankaramachandran/Desktop/precision%20agriculture/ipd_precision-agriculture/grape_counting/datasets/counting.ipynb#W0sZmlsZQ%3D%3D?line=23'>24</a>\u001b[0m \u001b[39m# Get the bounding boxes of detected grapes for the image\u001b[39;00m\n\u001b[0;32m---> <a href='vscode-notebook-cell:/Users/priyankaramachandran/Desktop/precision%20agriculture/ipd_precision-agriculture/grape_counting/datasets/counting.ipynb#W0sZmlsZQ%3D%3D?line=24'>25</a>\u001b[0m grapes_boxes \u001b[39m=\u001b[39m results\u001b[39m.\u001b[39;49mxyxy[\u001b[39m0\u001b[39m][results\u001b[39m.\u001b[39mxyxy[\u001b[39m0\u001b[39m][:, \u001b[39m-\u001b[39m\u001b[39m1\u001b[39m] \u001b[39m==\u001b[39m model\u001b[39m.\u001b[39mnames\u001b[39m.\u001b[39mindex(\u001b[39m\"\u001b[39m\u001b[39mgrape\u001b[39m\u001b[39m\"\u001b[39m)]\n\u001b[1;32m     <a href='vscode-notebook-cell:/Users/priyankaramachandran/Desktop/precision%20agriculture/ipd_precision-agriculture/grape_counting/datasets/counting.ipynb#W0sZmlsZQ%3D%3D?line=26'>27</a>\u001b[0m \u001b[39m# Display the image with bounding boxes\u001b[39;00m\n\u001b[1;32m     <a href='vscode-notebook-cell:/Users/priyankaramachandran/Desktop/precision%20agriculture/ipd_precision-agriculture/grape_counting/datasets/counting.ipynb#W0sZmlsZQ%3D%3D?line=27'>28</a>\u001b[0m img \u001b[39m=\u001b[39m PILImage\u001b[39m.\u001b[39mopen(image_path)\n",
      "\u001b[0;31mAttributeError\u001b[0m: 'list' object has no attribute 'xyxy'"
     ]
    }
   ],
   "source": [
    "from ultralytics import YOLO\n",
    "from IPython.display import display, Image\n",
    "import os\n",
    "from PIL import Image as PILImage\n",
    "\n",
    "# Assuming you have already trained the model and have the best weights saved\n",
    "model = YOLO()\n",
    "model.load(\n",
    "    \"/Users/priyankaramachandran/Desktop/precision agriculture/ipd_precision-agriculture/grape_counting/datasets/runs/detect/train2/weights/best.pt\"\n",
    ")\n",
    "\n",
    "# Set the path to the single test image\n",
    "test_image_path = \"/Users/priyankaramachandran/Desktop/precision agriculture/ipd_precision-agriculture/grape_counting/datasets/test/images/angle-15_IMG_20220721_101402_1.jpg\"\n",
    "\n",
    "# Set the confidence threshold for detection\n",
    "confidence_threshold = 0.25\n",
    "\n",
    "\n",
    "# Create a function to count grapes in the image\n",
    "def count_grapes(image_path):\n",
    "    # Perform object detection on the image\n",
    "    results = model(image_path, conf=confidence_threshold)\n",
    "\n",
    "    # Get the bounding boxes of detected grapes for the image\n",
    "    grapes_boxes = results.xyxy[0][results.xyxy[0][:, -1] == model.names.index(\"grape\")]\n",
    "\n",
    "    # Display the image with bounding boxes\n",
    "    img = PILImage.open(image_path)\n",
    "    for box in grapes_boxes:\n",
    "        img = img.convert(\"RGB\")\n",
    "        img = img.crop((box[0], box[1], box[2], box[3]))\n",
    "        display(img)\n",
    "\n",
    "    # Return the count of grapes for the image\n",
    "    print(f\"Image: {os.path.basename(image_path)}, Grape Count: {len(grapes_boxes)}\")\n",
    "\n",
    "\n",
    "# Call the function to count grapes in the single test image\n",
    "count_grapes(test_image_path)"
   ]
  }
 ],
 "metadata": {
  "kernelspec": {
   "display_name": "Python 3",
   "language": "python",
   "name": "python3"
  },
  "language_info": {
   "codemirror_mode": {
    "name": "ipython",
    "version": 3
   },
   "file_extension": ".py",
   "mimetype": "text/x-python",
   "name": "python",
   "nbconvert_exporter": "python",
   "pygments_lexer": "ipython3",
   "version": "3.11.5"
  }
 },
 "nbformat": 4,
 "nbformat_minor": 2
}
