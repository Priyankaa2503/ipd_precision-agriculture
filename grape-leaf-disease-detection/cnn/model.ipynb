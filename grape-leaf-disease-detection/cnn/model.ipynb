{
 "cells": [
  {
   "cell_type": "code",
   "execution_count": 78,
   "metadata": {},
   "outputs": [],
   "source": [
    "import os\n",
    "from keras.preprocessing.image import ImageDataGenerator\n",
    "import matplotlib.pyplot as plt\n",
    "from keras.models import Sequential\n",
    "from keras.layers import Conv2D, MaxPooling2D, Flatten, Dense, Dropout"
   ]
  },
  {
   "cell_type": "code",
   "execution_count": 79,
   "metadata": {},
   "outputs": [],
   "source": [
    "train_dataset_path = \"../dataset/train/\"\n",
    "test_dataset_path = \"../dataset/test/\""
   ]
  },
  {
   "cell_type": "code",
   "execution_count": 80,
   "metadata": {},
   "outputs": [
    {
     "name": "stdout",
     "output_type": "stream",
     "text": [
      "Found 12000 images belonging to 4 classes.\n",
      "Found 1805 images belonging to 4 classes.\n"
     ]
    }
   ],
   "source": [
    "datagen = ImageDataGenerator(\n",
    "    rescale=1.0 / 255,  # Normalize pixel values to the range [0, 1]\n",
    ")\n",
    "\n",
    "train_generator = datagen.flow_from_directory(\n",
    "    train_dataset_path,\n",
    "    target_size=(224, 224),  # Set the target image size\n",
    "    batch_size=32,  # Set the batch size\n",
    "    class_mode=\"categorical\",  # Choose 'binary' for binary classification\n",
    "    shuffle=True,  # Shuffle the data during training\n",
    ")\n",
    "\n",
    "test_generator = datagen.flow_from_directory(\n",
    "    test_dataset_path,\n",
    "    target_size=(224, 224),\n",
    "    batch_size=32,\n",
    "    class_mode=\"categorical\",\n",
    "    shuffle=False,  # Do not shuffle the data during testing\n",
    ")"
   ]
  },
  {
   "cell_type": "code",
   "execution_count": 81,
   "metadata": {},
   "outputs": [],
   "source": [
    "class_names = [\"Black Rot\", \"ESCA\", \"Healthy\", \"Leaf Blight\"]"
   ]
  },
  {
   "cell_type": "code",
   "execution_count": 82,
   "metadata": {},
   "outputs": [],
   "source": [
    "model = Sequential()\n",
    "\n",
    "model.add(Conv2D(32, (3, 3), activation=\"relu\", input_shape=(224, 224, 3)))\n",
    "model.add(MaxPooling2D((2, 2)))\n",
    "\n",
    "model.add(Conv2D(64, (3, 3), activation=\"relu\"))\n",
    "model.add(MaxPooling2D((2, 2)))\n",
    "\n",
    "model.add(Conv2D(128, (3, 3), activation=\"relu\"))\n",
    "model.add(MaxPooling2D((2, 2)))\n",
    "\n",
    "model.add(Flatten())\n",
    "\n",
    "model.add(Dense(128, activation=\"relu\"))\n",
    "model.add(Dropout(0.5))  # Dropout for regularization\n",
    "\n",
    "model.add(Dense(len(class_names), activation=\"softmax\"))  # Output layer"
   ]
  },
  {
   "cell_type": "code",
   "execution_count": 83,
   "metadata": {},
   "outputs": [],
   "source": [
    "model.compile(optimizer=\"adam\", loss=\"categorical_crossentropy\", metrics=[\"accuracy\"])"
   ]
  },
  {
   "cell_type": "code",
   "execution_count": 84,
   "metadata": {},
   "outputs": [
    {
     "name": "stdout",
     "output_type": "stream",
     "text": [
      "Epoch 1/10\n",
      "375/375 [==============================] - 714s 2s/step - loss: 0.4446 - accuracy: 0.8313 - val_loss: 0.1764 - val_accuracy: 0.9397\n",
      "Epoch 2/10\n",
      "375/375 [==============================] - 668s 2s/step - loss: 0.1802 - accuracy: 0.9362 - val_loss: 0.1301 - val_accuracy: 0.9548\n",
      "Epoch 3/10\n",
      "375/375 [==============================] - 480s 1s/step - loss: 0.0932 - accuracy: 0.9697 - val_loss: 0.1372 - val_accuracy: 0.9526\n",
      "Epoch 4/10\n",
      "375/375 [==============================] - 572s 2s/step - loss: 0.0616 - accuracy: 0.9787 - val_loss: 0.0448 - val_accuracy: 0.9833\n",
      "Epoch 5/10\n",
      "375/375 [==============================] - 395s 1s/step - loss: 0.0436 - accuracy: 0.9862 - val_loss: 0.0894 - val_accuracy: 0.9704\n",
      "Epoch 6/10\n",
      "375/375 [==============================] - 400s 1s/step - loss: 0.0394 - accuracy: 0.9873 - val_loss: 0.0642 - val_accuracy: 0.9799\n",
      "Epoch 7/10\n",
      "375/375 [==============================] - 597s 2s/step - loss: 0.0328 - accuracy: 0.9882 - val_loss: 0.0873 - val_accuracy: 0.9727\n",
      "Epoch 8/10\n",
      "375/375 [==============================] - 394s 1s/step - loss: 0.0318 - accuracy: 0.9903 - val_loss: 0.0657 - val_accuracy: 0.9805\n",
      "Epoch 9/10\n",
      "375/375 [==============================] - 434s 1s/step - loss: 0.0482 - accuracy: 0.9858 - val_loss: 0.0545 - val_accuracy: 0.9833\n",
      "Epoch 10/10\n",
      "375/375 [==============================] - 576s 2s/step - loss: 0.0167 - accuracy: 0.9964 - val_loss: 0.0849 - val_accuracy: 0.9782\n"
     ]
    }
   ],
   "source": [
    "epochs = 10  # Adjust the number of epochs as needed\n",
    "\n",
    "history = model.fit(\n",
    "    train_generator,\n",
    "    steps_per_epoch=train_generator.samples // train_generator.batch_size,\n",
    "    epochs=epochs,\n",
    "    validation_data=test_generator,\n",
    "    validation_steps=test_generator.samples // test_generator.batch_size,\n",
    ")"
   ]
  },
  {
   "cell_type": "code",
   "execution_count": 85,
   "metadata": {},
   "outputs": [
    {
     "name": "stdout",
     "output_type": "stream",
     "text": [
      "56/56 [==============================] - 23s 401ms/step - loss: 0.0849 - accuracy: 0.9782\n",
      "Test accuracy: 0.9782366156578064\n"
     ]
    }
   ],
   "source": [
    "# Evaluate the model on the test data\n",
    "test_loss, test_accuracy = model.evaluate(\n",
    "    test_generator, steps=test_generator.samples // test_generator.batch_size\n",
    ")\n",
    "print(\"Test accuracy:\", test_accuracy)"
   ]
  },
  {
   "cell_type": "code",
   "execution_count": 86,
   "metadata": {},
   "outputs": [
    {
     "data": {
      "image/png": "[encoded data removed]",
      "text/plain": [
       "<Figure size 640x480 with 1 Axes>"
      ]
     },
     "metadata": {},
     "output_type": "display_data"
    }
   ],
   "source": [
    "# Plot training history (accuracy and loss)\n",
    "plt.plot(history.history[\"accuracy\"], label=\"accuracy\")\n",
    "plt.plot(history.history[\"val_accuracy\"], label=\"val_accuracy\")\n",
    "plt.plot(history.history[\"loss\"], label=\"loss\")\n",
    "plt.plot(history.history[\"val_loss\"], label=\"val_loss\")\n",
    "plt.legend(loc=\"upper right\")\n",
    "plt.show()"
   ]
  },
  {
   "cell_type": "code",
   "execution_count": 88,
   "metadata": {},
   "outputs": [],
   "source": [
    "from pathlib import Path\n",
    "\n",
    "model_structure = model.to_json()\n",
    "file = Path(\"model_structure.json\")\n",
    "file.write_text(model_structure)\n",
    "model.save_weights(\"model_weights.h5\")"
   ]
  }
 ],
 "metadata": {
  "kernelspec": {
   "display_name": "Python 3",
   "language": "python",
   "name": "python3"
  },
  "language_info": {
   "codemirror_mode": {
    "name": "ipython",
    "version": 3
   },
   "file_extension": ".py",
   "mimetype": "text/x-python",
   "name": "python",
   "nbconvert_exporter": "python",
   "pygments_lexer": "ipython3",
   "version": "3.11.4"
  },
  "orig_nbformat": 4
 },
 "nbformat": 4,
 "nbformat_minor": 2
}
