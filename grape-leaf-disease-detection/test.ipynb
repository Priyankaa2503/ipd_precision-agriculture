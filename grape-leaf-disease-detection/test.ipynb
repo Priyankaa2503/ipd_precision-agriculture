{
 "cells": [
  {
   "cell_type": "code",
   "execution_count": 1,
   "metadata": {},
   "outputs": [],
   "source": [
    "from keras.models import model_from_json\n",
    "from pathlib import Path\n",
    "import numpy as np\n",
    "import tensorflow as tf"
   ]
  },
  {
   "cell_type": "code",
   "execution_count": 2,
   "metadata": {},
   "outputs": [],
   "source": [
    "class_names = [\"Black Rot\",\"ESCA\",\"Healthy\",\"Leaf Blight\"]"
   ]
  },
  {
   "cell_type": "code",
   "execution_count": 3,
   "metadata": {},
   "outputs": [],
   "source": [
    "file = Path(\"model_structure.json\")\n",
    "model_structure = file.read_text()\n",
    "model = model_from_json(model_structure)\n",
    "model.load_weights(\"model_weights.h5\")"
   ]
  },
  {
   "cell_type": "code",
   "execution_count": 4,
   "metadata": {},
   "outputs": [
    {
     "name": "stdout",
     "output_type": "stream",
     "text": [
      "1/1 [==============================] - 0s 234ms/step\n",
      "This image is a Black Rot-Likelihood: 1.000000\n"
     ]
    }
   ],
   "source": [
    "img = tf.keras.utils.load_img(\"black_rot_test.png\",target_size=(224,224))\n",
    "image_to_test=tf.keras.utils.img_to_array(img)\n",
    "list_of_images=np.expand_dims(image_to_test,axis=0)\n",
    "results=model.predict(list_of_images)\n",
    "single_result=results[0]\n",
    "most_likely_class_index=int(np.argmax(single_result))\n",
    "class_likelihood=single_result[most_likely_class_index]\n",
    "class_label=class_names[most_likely_class_index]\n",
    "print(\"This image is a {}-Likelihood: {:2f}\".format(class_label,class_likelihood))"
   ]
  }
 ],
 "metadata": {
  "kernelspec": {
   "display_name": "Python 3",
   "language": "python",
   "name": "python3"
  },
  "language_info": {
   "codemirror_mode": {
    "name": "ipython",
    "version": 3
   },
   "file_extension": ".py",
   "mimetype": "text/x-python",
   "name": "python",
   "nbconvert_exporter": "python",
   "pygments_lexer": "ipython3",
   "version": "3.11.4"
  },
  "orig_nbformat": 4
 },
 "nbformat": 4,
 "nbformat_minor": 2
}
