{
 "cells": [
  {
   "cell_type": "code",
   "execution_count": 1,
   "metadata": {},
   "outputs": [],
   "source": [
    "import os\n",
    "import numpy as np\n",
    "from sklearn import svm\n",
    "from sklearn.metrics import classification_report\n",
    "from keras.preprocessing.image import load_img, img_to_array\n",
    "from keras.applications.vgg16 import preprocess_input\n",
    "from joblib import Parallel, delayed\n",
    "from tqdm import tqdm\n",
    "from sklearn.preprocessing import LabelEncoder\n",
    "from sklearn.metrics import accuracy_score"
   ]
  },
  {
   "cell_type": "code",
   "execution_count": 2,
   "metadata": {},
   "outputs": [],
   "source": [
    "train_dataset_path = \"../dataset/train/\"\n",
    "test_dataset_path = \"../dataset/test/\""
   ]
  },
  {
   "cell_type": "code",
   "execution_count": 3,
   "metadata": {},
   "outputs": [],
   "source": [
    "train_image_paths = []\n",
    "train_labels = []\n",
    "\n",
    "for class_name in os.listdir(train_dataset_path):\n",
    "    class_path = os.path.join(train_dataset_path, class_name)\n",
    "    if os.path.isdir(class_path):\n",
    "        for image_name in os.listdir(class_path):\n",
    "            image_path = os.path.join(class_path, image_name)\n",
    "            train_image_paths.append(image_path)\n",
    "            train_labels.append(class_name)"
   ]
  },
  {
   "cell_type": "code",
   "execution_count": 4,
   "metadata": {},
   "outputs": [],
   "source": [
    "test_image_paths = []\n",
    "test_labels = []\n",
    "\n",
    "for class_name in os.listdir(test_dataset_path):\n",
    "    class_path = os.path.join(test_dataset_path, class_name)\n",
    "    if os.path.isdir(class_path):\n",
    "        for image_name in os.listdir(class_path):\n",
    "            image_path = os.path.join(class_path, image_name)\n",
    "            test_image_paths.append(image_path)\n",
    "            test_labels.append(class_name)"
   ]
  },
  {
   "cell_type": "code",
   "execution_count": 5,
   "metadata": {},
   "outputs": [],
   "source": [
    "image_size = (32, 32)\n",
    "n_jobs = 4"
   ]
  },
  {
   "cell_type": "code",
   "execution_count": 6,
   "metadata": {},
   "outputs": [],
   "source": [
    "def preprocess_images(image_path):\n",
    "    img = load_img(image_path, target_size=image_size)\n",
    "    img_array = img_to_array(img)\n",
    "    img_array = preprocess_input(img_array)\n",
    "    return img_array"
   ]
  },
  {
   "cell_type": "code",
   "execution_count": 7,
   "metadata": {},
   "outputs": [
    {
     "name": "stderr",
     "output_type": "stream",
     "text": [
      "Preprocessing Training Images: 100%|██████████| 12000/12000 [00:11<00:00, 1016.08it/s]\n"
     ]
    }
   ],
   "source": [
    "with tqdm(\n",
    "    total=len(train_image_paths), desc=\"Preprocessing Training Images\"\n",
    ") as pbar_train:\n",
    "    with Parallel(n_jobs=n_jobs) as parallel:\n",
    "        train_images = parallel(\n",
    "            delayed(preprocess_images)(image_path) for image_path in train_image_paths\n",
    "        )\n",
    "        pbar_train.update(len(train_images))"
   ]
  },
  {
   "cell_type": "code",
   "execution_count": 8,
   "metadata": {},
   "outputs": [
    {
     "name": "stderr",
     "output_type": "stream",
     "text": [
      "Preprocessing Test Images: 100%|██████████| 1805/1805 [00:00<00:00, 3279.00it/s]\n"
     ]
    }
   ],
   "source": [
    "with tqdm(total=len(test_image_paths), desc=\"Preprocessing Test Images\") as pbar_test:\n",
    "    with Parallel(n_jobs=n_jobs) as parallel:\n",
    "        test_images = parallel(\n",
    "            delayed(preprocess_images)(image_path) for image_path in test_image_paths\n",
    "        )\n",
    "        pbar_test.update(len(test_images))"
   ]
  },
  {
   "cell_type": "code",
   "execution_count": 9,
   "metadata": {},
   "outputs": [],
   "source": [
    "X_train = np.array(train_images)\n",
    "y_train = np.array(train_labels)\n",
    "\n",
    "X_test = np.array(test_images)\n",
    "y_test = np.array(test_labels)"
   ]
  },
  {
   "cell_type": "code",
   "execution_count": 10,
   "metadata": {},
   "outputs": [],
   "source": [
    "X_train_flatten = X_train.reshape(X_train.shape[0], -1)\n",
    "X_test_flatten = X_test.reshape(X_test.shape[0], -1)"
   ]
  },
  {
   "cell_type": "code",
   "execution_count": 11,
   "metadata": {},
   "outputs": [],
   "source": [
    "label_encoder = LabelEncoder()  # Initialize the label encoder\n",
    "y_train_encoded = label_encoder.fit_transform(y_train)"
   ]
  },
  {
   "cell_type": "code",
   "execution_count": 12,
   "metadata": {},
   "outputs": [
    {
     "name": "stderr",
     "output_type": "stream",
     "text": [
      "Training SVM: 100%|██████████| 12000/12000 [02:28<00:00, 80.72it/s]\n"
     ]
    }
   ],
   "source": [
    "svm_model = svm.SVC(kernel=\"linear\")\n",
    "\n",
    "with tqdm(total=len(X_train_flatten), desc=\"Training SVM\") as pbar:\n",
    "    svm_model.fit(X_train_flatten, y_train)\n",
    "    pbar.update(X_train_flatten.shape[0])"
   ]
  },
  {
   "cell_type": "code",
   "execution_count": 13,
   "metadata": {},
   "outputs": [
    {
     "name": "stdout",
     "output_type": "stream",
     "text": [
      "              precision    recall  f1-score   support\n",
      "\n",
      "   Black Rot       0.67      0.76      0.71       472\n",
      "        ESCA       0.82      0.75      0.78       480\n",
      "     Healthy       0.95      0.89      0.92       423\n",
      " Leaf Blight       0.90      0.90      0.90       430\n",
      "\n",
      "    accuracy                           0.82      1805\n",
      "   macro avg       0.83      0.83      0.83      1805\n",
      "weighted avg       0.83      0.82      0.82      1805\n",
      "\n"
     ]
    }
   ],
   "source": [
    "y_pred = svm_model.predict(X_test_flatten)\n",
    "print(classification_report(y_test, y_pred, target_names=label_encoder.classes_))"
   ]
  },
  {
   "cell_type": "code",
   "execution_count": 14,
   "metadata": {},
   "outputs": [
    {
     "name": "stdout",
     "output_type": "stream",
     "text": [
      "Accuracy: 0.82\n"
     ]
    }
   ],
   "source": [
    "accuracy = accuracy_score(y_pred, y_test)\n",
    "print(f\"Accuracy: {accuracy:.2f}\")"
   ]
  },
  {
   "cell_type": "code",
   "execution_count": 15,
   "metadata": {},
   "outputs": [],
   "source": [
    "import joblib\n",
    "\n",
    "model_filename = \"svm_model.joblib\"\n",
    "with open(model_filename, \"wb\") as model_file:\n",
    "    joblib.dump(svm_model, model_file)"
   ]
  }
 ],
 "metadata": {
  "kernelspec": {
   "display_name": "base",
   "language": "python",
   "name": "python3"
  },
  "language_info": {
   "codemirror_mode": {
    "name": "ipython",
    "version": 3
   },
   "file_extension": ".py",
   "mimetype": "text/x-python",
   "name": "python",
   "nbconvert_exporter": "python",
   "pygments_lexer": "ipython3",
   "version": "3.11.4"
  },
  "orig_nbformat": 4
 },
 "nbformat": 4,
 "nbformat_minor": 2
}
