{
 "cells": [
  {
   "cell_type": "code",
   "execution_count": 23,
   "metadata": {},
   "outputs": [],
   "source": [
    "import cv2\n",
    "import numpy as np\n",
    "from keras.models import load_model"
   ]
  },
  {
   "cell_type": "code",
   "execution_count": 24,
   "metadata": {},
   "outputs": [],
   "source": [
    "backSub = cv2.createBackgroundSubtractorMOG2()\n",
    "\n",
    "lower_blue = np.array([100, 50, 50])\n",
    "upper_blue = np.array([130, 255, 255])\n",
    "lower_green = np.array([40, 50, 50])\n",
    "upper_green = np.array([70, 255, 255])"
   ]
  },
  {
   "cell_type": "code",
   "execution_count": 25,
   "metadata": {},
   "outputs": [],
   "source": [
    "cap = cv2.VideoCapture('field.mp4')"
   ]
  },
  {
   "cell_type": "code",
   "execution_count": 26,
   "metadata": {},
   "outputs": [],
   "source": [
    "anomaly_counter = 0\n",
    "offset = 10\n",
    "while True:\n",
    "    ret, frame = cap.read()\n",
    "    if not ret:\n",
    "        break\n",
    "    fgMask = backSub.apply(frame)\n",
    "    hsv = cv2.cvtColor(frame, cv2.COLOR_BGR2HSV)\n",
    "    mask_blue = cv2.inRange(hsv, lower_blue, upper_blue)\n",
    "    mask_green = cv2.inRange(hsv, lower_green, upper_green)\n",
    "    mask = cv2.bitwise_or(mask_blue, mask_green)\n",
    "    mask = cv2.bitwise_not(mask)\n",
    "    fgMask = cv2.bitwise_and(fgMask, mask)\n",
    "    if np.any(fgMask):\n",
    "        anomaly_counter += 1\n",
    "        contours, _ = cv2.findContours(\n",
    "            fgMask, cv2.RETR_EXTERNAL, cv2.CHAIN_APPROX_SIMPLE)\n",
    "        centers = []\n",
    "        for contour in contours:\n",
    "            (x, y, w, h) = cv2.boundingRect(contour)\n",
    "            if w * h > 25:\n",
    "                centers.append([x + w / 2, y + h / 2])\n",
    "        if len(centers) > 0:\n",
    "            clustering = DBSCAN(eps=50, min_samples=2).fit(centers)\n",
    "            labels = clustering.labels_\n",
    "            unique_labels = set(labels)\n",
    "            for label in unique_labels:\n",
    "                if label != -1:\n",
    "                    cluster_centers = [centers[idx] for idx in range(\n",
    "                        len(centers)) if labels[idx] == label]\n",
    "                    min_x = int(\n",
    "                        min(cluster_centers, key=lambda x: x[0])[0]) - offset\n",
    "                    min_y = int(\n",
    "                        min(cluster_centers, key=lambda x: x[1])[1]) - offset\n",
    "                    max_x = int(\n",
    "                        max(cluster_centers, key=lambda x: x[0])[0]) + offset\n",
    "                    max_y = int(\n",
    "                        max(cluster_centers, key=lambda x: x[1])[1]) + offset\n",
    "                    cv2.rectangle(frame, (min_x, min_y),\n",
    "                                  (max_x, max_y), (0, 255, 0), 2)\n",
    "    cv2.imshow('Frame', frame)\n",
    "    if cv2.waitKey(1) & 0xFF == ord('q'):\n",
    "        break\n",
    "cap.release()\n",
    "cv2.destroyAllWindows()"
   ]
  },
  {
   "cell_type": "code",
   "execution_count": 27,
   "metadata": {},
   "outputs": [
    {
     "name": "stdout",
     "output_type": "stream",
     "text": [
      "Anomaly detected\n"
     ]
    }
   ],
   "source": [
    "if anomaly_counter > 0:\n",
    "    print(\"Anomaly detected\")\n",
    "else:\n",
    "    print(\"No anomaly detected\")"
   ]
  }
 ],
 "metadata": {
  "kernelspec": {
   "display_name": "Python 3",
   "language": "python",
   "name": "python3"
  },
  "language_info": {
   "codemirror_mode": {
    "name": "ipython",
    "version": 3
   },
   "file_extension": ".py",
   "mimetype": "text/x-python",
   "name": "python",
   "nbconvert_exporter": "python",
   "pygments_lexer": "ipython3",
   "version": "3.11.5"
  }
 },
 "nbformat": 4,
 "nbformat_minor": 2
}
