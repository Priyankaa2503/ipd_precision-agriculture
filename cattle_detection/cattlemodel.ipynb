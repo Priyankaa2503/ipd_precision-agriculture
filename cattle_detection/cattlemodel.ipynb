{
 "cells": [
  {
   "cell_type": "code",
   "execution_count": 1,
   "metadata": {},
   "outputs": [],
   "source": [
    "import tensorflow as tf\n",
    "from keras.preprocessing.image import ImageDataGenerator"
   ]
  },
  {
   "cell_type": "code",
   "execution_count": 2,
   "metadata": {},
   "outputs": [],
   "source": [
    "dataset_path = './images'"
   ]
  },
  {
   "cell_type": "code",
   "execution_count": 3,
   "metadata": {},
   "outputs": [
    {
     "name": "stdout",
     "output_type": "stream",
     "text": [
      "Found 218 images belonging to 4 classes.\n",
      "Found 53 images belonging to 4 classes.\n"
     ]
    }
   ],
   "source": [
    "datagen = ImageDataGenerator(rescale=1./255, validation_split=0.2)\n",
    "\n",
    "train_data = datagen.flow_from_directory(\n",
    "    dataset_path,\n",
    "    target_size=(150, 150),\n",
    "    batch_size=32,\n",
    "    class_mode='categorical',\n",
    "    subset='training'\n",
    ")\n",
    "\n",
    "validation_data = datagen.flow_from_directory(\n",
    "    dataset_path,\n",
    "    target_size=(150, 150),\n",
    "    batch_size=32,\n",
    "    class_mode='categorical',\n",
    "    subset='validation'\n",
    ")"
   ]
  },
  {
   "cell_type": "code",
   "execution_count": 4,
   "metadata": {},
   "outputs": [],
   "source": [
    "model = tf.keras.models.Sequential([\n",
    "    tf.keras.layers.Conv2D(32, (3, 3), activation='relu',\n",
    "                           input_shape=(150, 150, 3)),\n",
    "    tf.keras.layers.MaxPooling2D(2, 2),\n",
    "    tf.keras.layers.Conv2D(64, (3, 3), activation='relu'),\n",
    "    tf.keras.layers.MaxPooling2D(2, 2),\n",
    "    tf.keras.layers.Flatten(),\n",
    "    tf.keras.layers.Dense(512, activation='relu'),\n",
    "    tf.keras.layers.Dense(4, activation='softmax')\n",
    "])\n",
    "\n"
   ]
  },
  {
   "cell_type": "code",
   "execution_count": 5,
   "metadata": {},
   "outputs": [],
   "source": [
    "model.compile(loss='categorical_crossentropy',\n",
    "              optimizer='adam', metrics=['accuracy'])"
   ]
  },
  {
   "cell_type": "code",
   "execution_count": 6,
   "metadata": {},
   "outputs": [
    {
     "name": "stderr",
     "output_type": "stream",
     "text": [
      "c:\\Users\\Aditya\\AppData\\Local\\Programs\\Python\\Python311\\Lib\\site-packages\\PIL\\Image.py:992: UserWarning: Palette images with Transparency expressed in bytes should be converted to RGBA images\n",
      "  warnings.warn(\n"
     ]
    },
    {
     "name": "stdout",
     "output_type": "stream",
     "text": [
      "Epoch 1/10\n",
      "7/7 [==============================] - 11s 1s/step - loss: 4.3087 - accuracy: 0.3211 - val_loss: 1.5838 - val_accuracy: 0.1887\n",
      "Epoch 2/10\n",
      "7/7 [==============================] - 8s 1s/step - loss: 1.3320 - accuracy: 0.3486 - val_loss: 1.3544 - val_accuracy: 0.3396\n",
      "Epoch 3/10\n",
      "7/7 [==============================] - 8s 1s/step - loss: 1.0959 - accuracy: 0.6284 - val_loss: 1.3512 - val_accuracy: 0.4151\n",
      "Epoch 4/10\n",
      "7/7 [==============================] - 8s 1s/step - loss: 0.6120 - accuracy: 0.7752 - val_loss: 1.3871 - val_accuracy: 0.4906\n",
      "Epoch 5/10\n",
      "7/7 [==============================] - 8s 1s/step - loss: 0.2293 - accuracy: 0.9450 - val_loss: 1.4596 - val_accuracy: 0.5283\n",
      "Epoch 6/10\n",
      "7/7 [==============================] - 8s 1s/step - loss: 0.0718 - accuracy: 0.9908 - val_loss: 2.2251 - val_accuracy: 0.4528\n",
      "Epoch 7/10\n",
      "7/7 [==============================] - 9s 1s/step - loss: 0.0247 - accuracy: 0.9908 - val_loss: 1.6380 - val_accuracy: 0.5283\n",
      "Epoch 8/10\n",
      "7/7 [==============================] - 9s 1s/step - loss: 0.0078 - accuracy: 1.0000 - val_loss: 1.9895 - val_accuracy: 0.5283\n",
      "Epoch 9/10\n",
      "7/7 [==============================] - 9s 1s/step - loss: 0.0043 - accuracy: 1.0000 - val_loss: 2.1858 - val_accuracy: 0.5283\n",
      "Epoch 10/10\n",
      "7/7 [==============================] - 9s 1s/step - loss: 0.0038 - accuracy: 1.0000 - val_loss: 2.0558 - val_accuracy: 0.4906\n"
     ]
    },
    {
     "data": {
      "text/plain": [
       "<keras.src.callbacks.History at 0x1a1ca56be10>"
      ]
     },
     "execution_count": 6,
     "metadata": {},
     "output_type": "execute_result"
    }
   ],
   "source": [
    "model.fit(train_data, validation_data=validation_data, epochs=10)"
   ]
  },
  {
   "cell_type": "code",
   "execution_count": 7,
   "metadata": {},
   "outputs": [
    {
     "name": "stderr",
     "output_type": "stream",
     "text": [
      "c:\\Users\\Aditya\\AppData\\Local\\Programs\\Python\\Python311\\Lib\\site-packages\\keras\\src\\engine\\training.py:3000: UserWarning: You are saving your model as an HDF5 file via `model.save()`. This file format is considered legacy. We recommend using instead the native Keras format, e.g. `model.save('my_model.keras')`.\n",
      "  saving_api.save_model(\n"
     ]
    }
   ],
   "source": [
    "model.save('./cattlemodel.h5')"
   ]
  }
 ],
 "metadata": {
  "kernelspec": {
   "display_name": "Python 3",
   "language": "python",
   "name": "python3"
  },
  "language_info": {
   "codemirror_mode": {
    "name": "ipython",
    "version": 3
   },
   "file_extension": ".py",
   "mimetype": "text/x-python",
   "name": "python",
   "nbconvert_exporter": "python",
   "pygments_lexer": "ipython3",
   "version": "3.11.5"
  }
 },
 "nbformat": 4,
 "nbformat_minor": 2
}
